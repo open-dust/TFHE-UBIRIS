{
 "cells": [
  {
   "cell_type": "code",
   "execution_count": 3,
   "id": "4b69ee02-be21-49fd-ab3a-4681779e3c18",
   "metadata": {
    "tags": []
   },
   "outputs": [
    {
     "name": "stdout",
     "output_type": "stream",
     "text": [
      "Requirement already satisfied: opencv-python in /home/mohammedi/workspace/tfhe-ubiris/venv/lib/python3.10/site-packages (4.7.0.72)\n",
      "Requirement already satisfied: matplotlib in /home/mohammedi/workspace/tfhe-ubiris/venv/lib/python3.10/site-packages (3.5.3)\n",
      "Requirement already satisfied: numpy>=1.19.3 in /home/mohammedi/workspace/tfhe-ubiris/venv/lib/python3.10/site-packages (from opencv-python) (1.24.2)\n",
      "Requirement already satisfied: pyparsing>=2.2.1 in /home/mohammedi/workspace/tfhe-ubiris/venv/lib/python3.10/site-packages (from matplotlib) (3.0.9)\n",
      "Requirement already satisfied: cycler>=0.10 in /home/mohammedi/workspace/tfhe-ubiris/venv/lib/python3.10/site-packages (from matplotlib) (0.11.0)\n",
      "Requirement already satisfied: pillow>=6.2.0 in /home/mohammedi/workspace/tfhe-ubiris/venv/lib/python3.10/site-packages (from matplotlib) (9.5.0)\n",
      "Requirement already satisfied: python-dateutil>=2.7 in /home/mohammedi/workspace/tfhe-ubiris/venv/lib/python3.10/site-packages (from matplotlib) (2.8.2)\n",
      "Requirement already satisfied: kiwisolver>=1.0.1 in /home/mohammedi/workspace/tfhe-ubiris/venv/lib/python3.10/site-packages (from matplotlib) (1.4.4)\n",
      "Requirement already satisfied: packaging>=20.0 in /home/mohammedi/workspace/tfhe-ubiris/venv/lib/python3.10/site-packages (from matplotlib) (23.0)\n",
      "Requirement already satisfied: fonttools>=4.22.0 in /home/mohammedi/workspace/tfhe-ubiris/venv/lib/python3.10/site-packages (from matplotlib) (4.38.0)\n",
      "Requirement already satisfied: six>=1.5 in /home/mohammedi/workspace/tfhe-ubiris/venv/lib/python3.10/site-packages (from python-dateutil>=2.7->matplotlib) (1.16.0)\n",
      "Note: you may need to restart the kernel to use updated packages.\n"
     ]
    }
   ],
   "source": [
    "pip install opencv-python matplotlib"
   ]
  },
  {
   "cell_type": "code",
   "execution_count": 4,
   "id": "75c5411b-32b9-40e6-bbae-594b7a048297",
   "metadata": {
    "tags": []
   },
   "outputs": [],
   "source": [
    "from matplotlib import pyplot as plt\n",
    "import cv2\n",
    "import numpy as np\n",
    "import concrete.numpy as cnp"
   ]
  },
  {
   "cell_type": "code",
   "execution_count": 5,
   "id": "b59cb2b6-71de-4734-93a3-c5c389aab388",
   "metadata": {
    "tags": []
   },
   "outputs": [],
   "source": [
    "%matplotlib inline\n",
    "def imshow(img):\n",
    "    plt.imshow(cv2.cvtColor(img, cv2.COLOR_GRAY2RGB))\n",
    "    plt.show()"
   ]
  },
  {
   "cell_type": "code",
   "execution_count": 6,
   "id": "1d045d22-e42f-4586-b415-fb0150b26e7a",
   "metadata": {
    "tags": []
   },
   "outputs": [],
   "source": [
    "def imread_black_and_white(path):\n",
    "    image = cv2.imread(path, cv2.IMREAD_GRAYSCALE)\n",
    "    return np.where(image == 255, 1, image)"
   ]
  },
  {
   "cell_type": "code",
   "execution_count": 7,
   "id": "a70a3c30-b943-4931-a4df-65efadd38a6a",
   "metadata": {
    "tags": []
   },
   "outputs": [],
   "source": [
    "def read_ap_img(path, shape):\n",
    "    ap = np.zeros(shape, dtype=np.uint8)\n",
    "    \n",
    "    with open(path, \"r\") as f:\n",
    "        n_points = int(f.readline())\n",
    "        for i in range(n_points):\n",
    "            x, y = f.readline().split()\n",
    "            x = int(x)\n",
    "            y = int(y)\n",
    "            ap[x][y] = 255\n",
    "        \n",
    "    return ap"
   ]
  },
  {
   "cell_type": "code",
   "execution_count": 8,
   "id": "645b0763-3314-465e-ac4b-b846df025b23",
   "metadata": {
    "tags": []
   },
   "outputs": [],
   "source": [
    "def read_ap_indices(path):\n",
    "    points = []\n",
    "    \n",
    "    with open(path, \"r\") as f:\n",
    "        n_points = int(f.readline())\n",
    "        for i in range(n_points):\n",
    "            x, y = f.readline().split()\n",
    "            x = int(x)\n",
    "            y = int(y)\n",
    "            for i in range(1, 7):\n",
    "                points.append([x*i, y])\n",
    "            \n",
    "    # Transform it in a way to be used for numpy arrays like this: x[ap_indices]\n",
    "    points = tuple(np.array(points).T.tolist())\n",
    "        \n",
    "    return points"
   ]
  },
  {
   "cell_type": "code",
   "execution_count": 9,
   "id": "28115ef8-2b11-4b6e-99b0-0a25af17c78e",
   "metadata": {
    "tags": []
   },
   "outputs": [
    {
     "data": {
      "text/plain": [
       "196608"
      ]
     },
     "execution_count": 9,
     "metadata": {},
     "output_type": "execute_result"
    }
   ],
   "source": [
    "64 * 512 * 6"
   ]
  },
  {
   "cell_type": "code",
   "execution_count": 10,
   "id": "1cdf4566-22a3-4b86-b71b-e0f51998f2ea",
   "metadata": {
    "tags": []
   },
   "outputs": [],
   "source": [
    "ap = read_ap_img(\"points.txt\", (64, 512))"
   ]
  },
  {
   "cell_type": "code",
   "execution_count": 11,
   "id": "7b5c312d-123a-4fe3-ac61-8a01f529ec9c",
   "metadata": {
    "tags": []
   },
   "outputs": [],
   "source": [
    "ap_indices = read_ap_indices(\"points.txt\")"
   ]
  },
  {
   "cell_type": "code",
   "execution_count": 12,
   "id": "db5d93a5-3d8d-465e-b558-9bc5a3be81e2",
   "metadata": {
    "tags": []
   },
   "outputs": [],
   "source": [
    "DATA_DIR = \"../data/Output\""
   ]
  },
  {
   "cell_type": "code",
   "execution_count": 13,
   "id": "0b671610-8528-4a5e-bb6c-4e91479788a1",
   "metadata": {
    "tags": []
   },
   "outputs": [],
   "source": [
    "iris_code = imread_black_and_white(f\"{DATA_DIR}/IrisCodes/0000_000_code.bmp\")\n",
    "mask = imread_black_and_white(f\"{DATA_DIR}/NormalizedMasks/0000_000_mano.bmp\")"
   ]
  },
  {
   "cell_type": "code",
   "execution_count": 14,
   "id": "bf32f37a-7055-4891-b232-5951bca9ecf8",
   "metadata": {
    "tags": []
   },
   "outputs": [],
   "source": [
    "iris_code2 = imread_black_and_white(f\"{DATA_DIR}/IrisCodes/0000_002_code.bmp\")\n",
    "mask2 = imread_black_and_white(f\"{DATA_DIR}/NormalizedMasks/0000_003_mano.bmp\")"
   ]
  },
  {
   "cell_type": "code",
   "execution_count": 15,
   "id": "d66cc099-fd58-4d24-9a1d-1d04787877e9",
   "metadata": {
    "tags": []
   },
   "outputs": [],
   "source": [
    "total_mask = mask & mask2 & ap\n",
    "total_mask_big = np.array(total_mask.tolist() * 6)"
   ]
  },
  {
   "cell_type": "code",
   "execution_count": 17,
   "id": "86d24398-ba68-4264-ba25-0aad3ee9ed2a",
   "metadata": {
    "tags": []
   },
   "outputs": [
    {
     "data": {
      "text/plain": [
       "(384, 512)"
      ]
     },
     "execution_count": 17,
     "metadata": {},
     "output_type": "execute_result"
    }
   ],
   "source": [
    "total_mask_big.shape"
   ]
  },
  {
   "cell_type": "code",
   "execution_count": 20,
   "id": "4464d6e1-7359-43ec-bf79-a710e390e918",
   "metadata": {
    "tags": []
   },
   "outputs": [
    {
     "data": {
      "text/plain": [
       "(196608, 1536)"
      ]
     },
     "execution_count": 20,
     "metadata": {},
     "output_type": "execute_result"
    }
   ],
   "source": [
    "384 * 512, 6*256"
   ]
  },
  {
   "cell_type": "code",
   "execution_count": 23,
   "id": "f94b2c0d-5047-45b0-ac4c-e9ab582a5ad7",
   "metadata": {
    "tags": []
   },
   "outputs": [],
   "source": [
    "ic_ap = iris_code[ap_indices]\n",
    "ic2_ap = iris_code2[ap_indices]\n",
    "m_ap = total_mask_big[ap_indices]"
   ]
  },
  {
   "cell_type": "code",
   "execution_count": 24,
   "id": "620531c3-5ea1-4b25-a502-ea7b2ac854cb",
   "metadata": {
    "tags": []
   },
   "outputs": [
    {
     "data": {
      "text/plain": [
       "(326, 882)"
      ]
     },
     "execution_count": 24,
     "metadata": {},
     "output_type": "execute_result"
    }
   ],
   "source": [
    "match_iris(iris_code, iris_code2, total_mask_big), np.sum(total_mask_big)"
   ]
  },
  {
   "cell_type": "code",
   "execution_count": 25,
   "id": "0514bbd3-197f-4f49-b02d-c0b227b44e79",
   "metadata": {
    "tags": []
   },
   "outputs": [
    {
     "data": {
      "text/plain": [
       "(157, 378)"
      ]
     },
     "execution_count": 25,
     "metadata": {},
     "output_type": "execute_result"
    }
   ],
   "source": [
    "match_iris(ic_ap, ic2_ap, m_ap), np.sum(m_ap)"
   ]
  },
  {
   "cell_type": "code",
   "execution_count": 26,
   "id": "fe0d25f1-fa6e-4a9f-8cbf-20cdfdeedad4",
   "metadata": {
    "tags": []
   },
   "outputs": [],
   "source": [
    "from itertools import combinations, combinations_with_replacement"
   ]
  },
  {
   "cell_type": "code",
   "execution_count": 27,
   "id": "cd190324-9b60-4687-840d-c961fceccee1",
   "metadata": {
    "tags": []
   },
   "outputs": [],
   "source": [
    "ij = [(0, 0), (0, 1), (0, 2), (0, 3), (1, 0), (1, 1), (1, 2), (1, 3)]"
   ]
  },
  {
   "cell_type": "code",
   "execution_count": 29,
   "id": "9ae1159b-8089-49aa-9d2a-27958e82e2ce",
   "metadata": {
    "collapsed": true,
    "jupyter": {
     "outputs_hidden": true
    },
    "tags": []
   },
   "outputs": [
    {
     "name": "stdout",
     "output_type": "stream",
     "text": [
      "0000_000 - 0000_000: 0, 978, 0.0 | 0, 423, 0.0\n",
      "0000_000 - 0000_001: 151, 948, 0.16 | 80, 409, 0.2\n",
      "0000_000 - 0000_002: 322, 870, 0.37 | 156, 374, 0.42\n",
      "0000_000 - 0000_003: 287, 882, 0.33 | 151, 378, 0.4\n",
      "0000_000 - 0001_000: 432, 912, 0.47 | 200, 395, 0.51\n",
      "0000_000 - 0001_001: 407, 900, 0.45 | 211, 390, 0.54\n",
      "0000_000 - 0001_002: 390, 876, 0.45 | 195, 379, 0.51\n",
      "0000_000 - 0001_003: 387, 876, 0.44 | 171, 379, 0.45\n",
      "0000_001 - 0000_000: 151, 948, 0.16 | 80, 409, 0.2\n",
      "0000_001 - 0000_001: 0, 1008, 0.0 | 0, 440, 0.0\n",
      "0000_001 - 0000_002: 319, 858, 0.37 | 171, 370, 0.46\n",
      "0000_001 - 0000_003: 299, 876, 0.34 | 159, 375, 0.42\n",
      "0000_001 - 0001_000: 405, 894, 0.45 | 185, 385, 0.48\n",
      "0000_001 - 0001_001: 394, 894, 0.44 | 181, 386, 0.47\n",
      "0000_001 - 0001_002: 380, 864, 0.44 | 182, 372, 0.49\n",
      "0000_001 - 0001_003: 358, 864, 0.41 | 152, 372, 0.41\n",
      "0000_002 - 0000_000: 322, 870, 0.37 | 156, 374, 0.42\n",
      "0000_002 - 0000_001: 319, 858, 0.37 | 171, 370, 0.46\n",
      "0000_002 - 0000_002: 0, 942, 0.0 | 0, 398, 0.0\n",
      "0000_002 - 0000_003: 159, 918, 0.17 | 67, 387, 0.17\n",
      "0000_002 - 0001_000: 367, 852, 0.43 | 170, 361, 0.47\n",
      "0000_002 - 0001_001: 379, 906, 0.42 | 164, 383, 0.43\n",
      "0000_002 - 0001_002: 348, 876, 0.4 | 154, 372, 0.41\n",
      "0000_002 - 0001_003: 345, 858, 0.4 | 139, 365, 0.38\n",
      "0000_003 - 0000_000: 287, 882, 0.33 | 151, 378, 0.4\n",
      "0000_003 - 0000_001: 299, 876, 0.34 | 159, 375, 0.42\n",
      "0000_003 - 0000_002: 159, 918, 0.17 | 67, 387, 0.17\n",
      "0000_003 - 0000_003: 0, 996, 0.0 | 0, 419, 0.0\n",
      "0000_003 - 0001_000: 376, 894, 0.42 | 191, 377, 0.51\n",
      "0000_003 - 0001_001: 396, 930, 0.43 | 183, 391, 0.47\n",
      "0000_003 - 0001_002: 374, 906, 0.41 | 175, 383, 0.46\n",
      "0000_003 - 0001_003: 359, 882, 0.41 | 165, 375, 0.44\n",
      "0001_000 - 0000_000: 432, 912, 0.47 | 200, 395, 0.51\n",
      "0001_000 - 0000_001: 405, 894, 0.45 | 185, 385, 0.48\n",
      "0001_000 - 0000_002: 367, 852, 0.43 | 170, 361, 0.47\n",
      "0001_000 - 0000_003: 376, 894, 0.42 | 191, 377, 0.51\n",
      "0001_000 - 0001_000: 0, 1032, 0.0 | 0, 435, 0.0\n",
      "0001_000 - 0001_001: 185, 972, 0.19 | 96, 410, 0.23\n",
      "0001_000 - 0001_002: 169, 942, 0.18 | 81, 399, 0.2\n",
      "0001_000 - 0001_003: 167, 960, 0.17 | 91, 405, 0.22\n",
      "0001_001 - 0000_000: 407, 900, 0.45 | 211, 390, 0.54\n",
      "0001_001 - 0000_001: 394, 894, 0.44 | 181, 386, 0.47\n",
      "0001_001 - 0000_002: 379, 906, 0.42 | 164, 383, 0.43\n",
      "0001_001 - 0000_003: 396, 930, 0.43 | 183, 391, 0.47\n",
      "0001_001 - 0001_000: 185, 972, 0.19 | 96, 410, 0.23\n",
      "0001_001 - 0001_001: 0, 1074, 0.0 | 0, 460, 0.0\n",
      "0001_001 - 0001_002: 169, 942, 0.18 | 94, 403, 0.23\n",
      "0001_001 - 0001_003: 166, 948, 0.18 | 88, 404, 0.22\n",
      "0001_002 - 0000_000: 390, 876, 0.45 | 195, 379, 0.51\n",
      "0001_002 - 0000_001: 380, 864, 0.44 | 182, 372, 0.49\n",
      "0001_002 - 0000_002: 348, 876, 0.4 | 154, 372, 0.41\n",
      "0001_002 - 0000_003: 374, 906, 0.41 | 175, 383, 0.46\n",
      "0001_002 - 0001_000: 169, 942, 0.18 | 81, 399, 0.2\n",
      "0001_002 - 0001_001: 169, 942, 0.18 | 94, 403, 0.23\n",
      "0001_002 - 0001_002: 0, 984, 0.0 | 0, 416, 0.0\n",
      "0001_002 - 0001_003: 158, 930, 0.17 | 95, 392, 0.24\n",
      "0001_003 - 0000_000: 387, 876, 0.44 | 171, 379, 0.45\n",
      "0001_003 - 0000_001: 358, 864, 0.41 | 152, 372, 0.41\n",
      "0001_003 - 0000_002: 345, 858, 0.4 | 139, 365, 0.38\n",
      "0001_003 - 0000_003: 359, 882, 0.41 | 165, 375, 0.44\n",
      "0001_003 - 0001_000: 167, 960, 0.17 | 91, 405, 0.22\n",
      "0001_003 - 0001_001: 166, 948, 0.18 | 88, 404, 0.22\n",
      "0001_003 - 0001_002: 158, 930, 0.17 | 95, 392, 0.24\n",
      "0001_003 - 0001_003: 0, 990, 0.0 | 0, 419, 0.0\n"
     ]
    }
   ],
   "source": [
    "for i, j in ij:\n",
    "    iris_code = imread_black_and_white(f\"{DATA_DIR}/IrisCodes/000{i}_00{j}_code.bmp\")\n",
    "    mask = imread_black_and_white(f\"{DATA_DIR}/NormalizedMasks/000{i}_00{j}_mano.bmp\")\n",
    "        \n",
    "    for i2, j2 in ij:\n",
    "        iris_code2 = imread_black_and_white(f\"{DATA_DIR}/IrisCodes/000{i2}_00{j2}_code.bmp\")\n",
    "        mask2 = imread_black_and_white(f\"{DATA_DIR}/NormalizedMasks/000{i2}_00{j2}_mano.bmp\")\n",
    "        \n",
    "        total_mask = mask & mask2 & ap\n",
    "        total_mask_big = np.array(total_mask.tolist() * 6)\n",
    "        \n",
    "        mi, s = match_iris(iris_code, iris_code2, total_mask_big), np.sum(total_mask_big)\n",
    "        \n",
    "        ic_ap = iris_code[ap_indices]\n",
    "        ic2_ap = iris_code2[ap_indices]\n",
    "        m_ap = total_mask_big[ap_indices]\n",
    "        \n",
    "        mi_ap, s_ap = match_iris(ic_ap, ic2_ap, m_ap), np.sum(m_ap)\n",
    "        \n",
    "        print(f\"000{i}_00{j} - 000{i2}_00{j2}: {mi}, {s}, {mi/s:.2} | {mi_ap}, {s_ap}, {mi_ap/s_ap:.2}\")"
   ]
  },
  {
   "cell_type": "code",
   "execution_count": 31,
   "id": "09919e3f-cb67-4263-bd93-4e2a6a5e6dac",
   "metadata": {
    "tags": []
   },
   "outputs": [],
   "source": [
    "DATABASE_ALL = []\n",
    "\n",
    "for i, j in ij:\n",
    "    iris_code = imread_black_and_white(f\"{DATA_DIR}/IrisCodes/000{i}_00{j}_code.bmp\")\n",
    "    mask = imread_black_and_white(f\"{DATA_DIR}/NormalizedMasks/000{i}_00{j}_mano.bmp\")\n",
    "    mask = np.array(total_mask.tolist() * 6)\n",
    "    \n",
    "    iris_code = iris_code[ap_indices]\n",
    "    mask = mask[ap_indices]\n",
    "    \n",
    "    DATABASE_ALL.append((iris_code, mask))"
   ]
  },
  {
   "cell_type": "code",
   "execution_count": 32,
   "id": "874b9a51-eb02-43d5-a27f-9470069ce102",
   "metadata": {
    "tags": []
   },
   "outputs": [],
   "source": [
    "import random\n",
    "random.shuffle(DATABASE_ALL)"
   ]
  },
  {
   "cell_type": "code",
   "execution_count": 33,
   "id": "81ba46ad-83bc-47fd-871a-76c66b27a2f2",
   "metadata": {
    "tags": []
   },
   "outputs": [
    {
     "data": {
      "text/plain": [
       "8"
      ]
     },
     "execution_count": 33,
     "metadata": {},
     "output_type": "execute_result"
    }
   ],
   "source": [
    "len(DATABASE_ALL)"
   ]
  },
  {
   "cell_type": "code",
   "execution_count": 34,
   "id": "cc1b121b-10ad-4e2a-8638-295fb2aca4d7",
   "metadata": {
    "tags": []
   },
   "outputs": [],
   "source": [
    "DATABASE, DATABASE_TEST = DATABASE_ALL[:4], DATABASE_ALL[4:]"
   ]
  },
  {
   "cell_type": "code",
   "execution_count": 35,
   "id": "022179ff-5b2e-4a9a-9b9e-4cdfcf250517",
   "metadata": {
    "tags": []
   },
   "outputs": [],
   "source": [
    "DATABASE_COUNT = len(DATABASE)"
   ]
  },
  {
   "cell_type": "code",
   "execution_count": 36,
   "id": "d32e94c9-7299-4a26-b2ff-078d6a49905c",
   "metadata": {
    "tags": []
   },
   "outputs": [],
   "source": [
    "import numpy as np\n",
    "import concrete.numpy as cnp\n",
    "from functools import reduce\n",
    "\n",
    "def hamming_distance(x, y) -> int:\n",
    "    return np.sum(x ^ y)\n",
    "\n",
    "\n",
    "def min_int(x: int, y: int) -> int:\n",
    "    \"\"\"concrete-numpy doesn't yet support min, we have to implement one using\n",
    "    only supported operations\"\"\"\n",
    "    return (x + y - abs(x - y)) // 2\n",
    "\n",
    "\n",
    "def min_int_array(a) -> int:\n",
    "    \"\"\"Return the minimum value of an array of ints using the `min_int` function\"\"\"\n",
    "    return reduce(min_int, a)\n",
    "\n",
    "def auth(iris_code, mask):\n",
    "    \"\"\"Return the best score from comparing the provided iris and mask to the\n",
    "    ones in the database, the user fo this function will need to define a threshold\n",
    "    to decide weather the score means an identified iris or not\n",
    "\n",
    "    We know this is suboptimal but this is the best we could came up with right now\n",
    "    as we couldn't figure out a way to return an encrypted ID of the best match or\n",
    "    a special ID if the score is too low, mainly because we can't compare FHE values\n",
    "    \"\"\"\n",
    "    results = []\n",
    "\n",
    "    for i in range(DATABASE_COUNT):\n",
    "        (iris_code2, mask2) = DATABASE[i]\n",
    "        combined_mask = mask & mask2\n",
    "        ey1 = iris_code & combined_mask\n",
    "        ey2 = iris_code2 & combined_mask\n",
    "        bshd = hamming_distance(ey1, ey2)\n",
    "        results.append(bshd)\n",
    "\n",
    "    best_score = min_int_array(results)\n",
    "    return best_score"
   ]
  },
  {
   "cell_type": "code",
   "execution_count": 37,
   "id": "f500133f-c0e8-4b01-8157-7cef204690b1",
   "metadata": {
    "tags": []
   },
   "outputs": [],
   "source": [
    "class IrisAuthenticator:\n",
    "    def __init__(self, input_shape, input_max_value) -> None:\n",
    "        self.inputset = [\n",
    "            (\n",
    "                np.random.randint(\n",
    "                    0, input_max_value + 1, size=input_shape, dtype=np.int64\n",
    "                ),\n",
    "                np.random.randint(\n",
    "                    0, input_max_value + 1, size=input_shape, dtype=np.int64\n",
    "                ),\n",
    "            )\n",
    "            for _ in range(100)\n",
    "        ]\n",
    "\n",
    "        self.configuration = cnp.Configuration(\n",
    "            enable_unsafe_features=True,\n",
    "            use_insecure_key_cache=True,\n",
    "            insecure_key_cache_location=\".keys\",\n",
    "        )\n",
    "\n",
    "        self.compiler = cnp.Compiler(\n",
    "            auth, {\"iris_code\": \"encrypted\", \"mask\": \"encrypted\"}\n",
    "        )\n",
    "        self.circuit = self.compiler.compile(self.inputset, self.configuration)"
   ]
  },
  {
   "cell_type": "code",
   "execution_count": 38,
   "id": "7e465bec-1a77-43f6-ba9c-8d6cabdb2c6c",
   "metadata": {
    "tags": []
   },
   "outputs": [
    {
     "data": {
      "text/plain": [
       "80"
      ]
     },
     "execution_count": 38,
     "metadata": {},
     "output_type": "execute_result"
    }
   ],
   "source": [
    "auth(*DATABASE_TEST[0])"
   ]
  },
  {
   "cell_type": "code",
   "execution_count": 39,
   "id": "ee108c6e-cca0-4bc7-85ee-ebd06e83d339",
   "metadata": {
    "tags": []
   },
   "outputs": [],
   "source": [
    "input_shape = DATABASE[0][0].shape"
   ]
  },
  {
   "cell_type": "code",
   "execution_count": 40,
   "id": "29dc3d8e-d68a-4df7-aa68-f4944ab0cbe1",
   "metadata": {
    "tags": []
   },
   "outputs": [],
   "source": [
    "authenticator = IrisAuthenticator(input_shape=input_shape, input_max_value=1)"
   ]
  },
  {
   "cell_type": "code",
   "execution_count": 41,
   "id": "c33a4d07-5507-46a1-97bf-6559de4471e1",
   "metadata": {
    "tags": []
   },
   "outputs": [
    {
     "name": "stdout",
     "output_type": "stream",
     "text": [
      " %0 = iris_code                     # EncryptedTensor<uint1, shape=(1536,)>        ∈ [0, 1]\n",
      " %1 = mask                          # EncryptedTensor<uint1, shape=(1536,)>        ∈ [0, 1]\n",
      " %2 = [1 1 0 ... 0 1 0]             # ClearTensor<uint1, shape=(1536,)>            ∈ [0, 1]\n",
      " %3 = bitwise_and(%1, %2)           # EncryptedTensor<uint1, shape=(1536,)>        ∈ [0, 1]\n",
      " %4 = bitwise_and(%0, %3)           # EncryptedTensor<uint1, shape=(1536,)>        ∈ [0, 1]\n",
      " %5 = [1 1 0 ... 0 1 1]             # ClearTensor<uint1, shape=(1536,)>            ∈ [0, 1]\n",
      " %6 = bitwise_and(%5, %3)           # EncryptedTensor<uint1, shape=(1536,)>        ∈ [0, 1]\n",
      " %7 = bitwise_xor(%4, %6)           # EncryptedTensor<uint1, shape=(1536,)>        ∈ [0, 1]\n",
      " %8 = sum(%7)                       # EncryptedScalar<uint8>                       ∈ [87, 129]\n",
      " %9 = [1 1 0 ... 0 1 0]             # ClearTensor<uint1, shape=(1536,)>            ∈ [0, 1]\n",
      "%10 = bitwise_and(%1, %9)           # EncryptedTensor<uint1, shape=(1536,)>        ∈ [0, 1]\n",
      "%11 = bitwise_and(%0, %10)          # EncryptedTensor<uint1, shape=(1536,)>        ∈ [0, 1]\n",
      "%12 = [0 1 1 ... 0 1 0]             # ClearTensor<uint1, shape=(1536,)>            ∈ [0, 1]\n",
      "%13 = bitwise_and(%12, %10)         # EncryptedTensor<uint1, shape=(1536,)>        ∈ [0, 1]\n",
      "%14 = bitwise_xor(%11, %13)         # EncryptedTensor<uint1, shape=(1536,)>        ∈ [0, 1]\n",
      "%15 = sum(%14)                      # EncryptedScalar<uint8>                       ∈ [82, 128]\n",
      "%16 = [1 1 0 ... 0 1 0]             # ClearTensor<uint1, shape=(1536,)>            ∈ [0, 1]\n",
      "%17 = bitwise_and(%1, %16)          # EncryptedTensor<uint1, shape=(1536,)>        ∈ [0, 1]\n",
      "%18 = bitwise_and(%0, %17)          # EncryptedTensor<uint1, shape=(1536,)>        ∈ [0, 1]\n",
      "%19 = [1 1 0 ... 0 1 0]             # ClearTensor<uint1, shape=(1536,)>            ∈ [0, 1]\n",
      "%20 = bitwise_and(%19, %17)         # EncryptedTensor<uint1, shape=(1536,)>        ∈ [0, 1]\n",
      "%21 = bitwise_xor(%18, %20)         # EncryptedTensor<uint1, shape=(1536,)>        ∈ [0, 1]\n",
      "%22 = sum(%21)                      # EncryptedScalar<uint7>                       ∈ [77, 122]\n",
      "%23 = [1 1 0 ... 0 1 0]             # ClearTensor<uint1, shape=(1536,)>            ∈ [0, 1]\n",
      "%24 = bitwise_and(%1, %23)          # EncryptedTensor<uint1, shape=(1536,)>        ∈ [0, 1]\n",
      "%25 = bitwise_and(%0, %24)          # EncryptedTensor<uint1, shape=(1536,)>        ∈ [0, 1]\n",
      "%26 = [0 0 1 ... 0 1 0]             # ClearTensor<uint1, shape=(1536,)>            ∈ [0, 1]\n",
      "%27 = bitwise_and(%26, %24)         # EncryptedTensor<uint1, shape=(1536,)>        ∈ [0, 1]\n",
      "%28 = bitwise_xor(%25, %27)         # EncryptedTensor<uint1, shape=(1536,)>        ∈ [0, 1]\n",
      "%29 = sum(%28)                      # EncryptedScalar<uint7>                       ∈ [87, 122]\n",
      "%30 = add(%8, %15)                  # EncryptedScalar<uint8>                       ∈ [175, 251]\n",
      "%31 = subtract(%8, %15)             # EncryptedScalar<int6>                        ∈ [-25, 25]\n",
      "%32 = absolute(%31)                 # EncryptedScalar<uint5>                       ∈ [0, 25]\n",
      "%33 = subtract(%30, %32)            # EncryptedScalar<uint8>                       ∈ [164, 246]\n",
      "%34 = 2                             # ClearScalar<uint2>                           ∈ [2, 2]\n",
      "%35 = floor_divide(%33, %34)        # EncryptedScalar<uint7>                       ∈ [82, 123]\n",
      "%36 = add(%35, %22)                 # EncryptedScalar<uint8>                       ∈ [162, 238]\n",
      "%37 = subtract(%35, %22)            # EncryptedScalar<int6>                        ∈ [-28, 15]\n",
      "%38 = absolute(%37)                 # EncryptedScalar<uint5>                       ∈ [0, 28]\n",
      "%39 = subtract(%36, %38)            # EncryptedScalar<uint8>                       ∈ [154, 236]\n",
      "%40 = 2                             # ClearScalar<uint2>                           ∈ [2, 2]\n",
      "%41 = floor_divide(%39, %40)        # EncryptedScalar<uint7>                       ∈ [77, 118]\n",
      "%42 = add(%41, %29)                 # EncryptedScalar<uint8>                       ∈ [165, 229]\n",
      "%43 = subtract(%41, %29)            # EncryptedScalar<int6>                        ∈ [-20, 10]\n",
      "%44 = absolute(%43)                 # EncryptedScalar<uint5>                       ∈ [0, 20]\n",
      "%45 = subtract(%42, %44)            # EncryptedScalar<uint8>                       ∈ [154, 224]\n",
      "%46 = 2                             # ClearScalar<uint2>                           ∈ [2, 2]\n",
      "%47 = floor_divide(%45, %46)        # EncryptedScalar<uint7>                       ∈ [77, 112]\n",
      "return %47\n"
     ]
    }
   ],
   "source": [
    "print(authenticator.circuit)"
   ]
  },
  {
   "cell_type": "code",
   "execution_count": null,
   "id": "8d2ad28e-c677-4d60-ae39-f9f1d450bfcc",
   "metadata": {
    "tags": []
   },
   "outputs": [],
   "source": [
    "%%time\n",
    "authenticator.circuit.encrypt_run_decrypt(*DATABASE_TEST[0])"
   ]
  },
  {
   "cell_type": "code",
   "execution_count": null,
   "id": "19983196-3bb0-4dab-8561-53daa58dec38",
   "metadata": {},
   "outputs": [],
   "source": []
  }
 ],
 "metadata": {
  "kernelspec": {
   "display_name": "Python 3 (ipykernel)",
   "language": "python",
   "name": "python3"
  },
  "language_info": {
   "codemirror_mode": {
    "name": "ipython",
    "version": 3
   },
   "file_extension": ".py",
   "mimetype": "text/x-python",
   "name": "python",
   "nbconvert_exporter": "python",
   "pygments_lexer": "ipython3",
   "version": "3.10.6"
  }
 },
 "nbformat": 4,
 "nbformat_minor": 5
}
