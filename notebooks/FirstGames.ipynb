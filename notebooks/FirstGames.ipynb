{
 "cells": [
  {
   "cell_type": "code",
   "execution_count": 1,
   "id": "724aa42d-1832-4eff-8ca8-d99b595c4c15",
   "metadata": {
    "tags": []
   },
   "outputs": [
    {
     "data": {
      "text/plain": [
       "'/home/mohammedi/workspace/tfhe-ubiris/venv/bin/python'"
      ]
     },
     "execution_count": 1,
     "metadata": {},
     "output_type": "execute_result"
    }
   ],
   "source": [
    "import sys\n",
    "sys.executable"
   ]
  },
  {
   "cell_type": "code",
   "execution_count": 2,
   "id": "191187dd-78d8-41d0-8f31-5ea7a0913646",
   "metadata": {
    "tags": []
   },
   "outputs": [],
   "source": [
    "import time\n",
    "\n",
    "import numpy as np\n",
    "import concrete.numpy as cnp"
   ]
  },
  {
   "cell_type": "code",
   "execution_count": 3,
   "id": "b9abd462-7ea0-49fc-96da-2b76e0901004",
   "metadata": {
    "tags": []
   },
   "outputs": [],
   "source": [
    "INPUT_SHAPE = (2**4,)"
   ]
  },
  {
   "cell_type": "code",
   "execution_count": 4,
   "id": "19f8b4f3-1280-4f94-96d5-53f43595d63b",
   "metadata": {
    "tags": []
   },
   "outputs": [],
   "source": [
    "# Used to force the compiler to use a 16-bit\n",
    "SCALE_UP_MAX_VALUE = 2**16"
   ]
  },
  {
   "cell_type": "code",
   "execution_count": 5,
   "id": "d1fdae30-b561-4eaa-b9a1-cbe6ad45e0ea",
   "metadata": {
    "tags": []
   },
   "outputs": [],
   "source": [
    "INPUT_MAX_VALUE = 2**4"
   ]
  },
  {
   "cell_type": "code",
   "execution_count": 6,
   "id": "d0b30aed-2260-4e15-b467-71c704772cd9",
   "metadata": {
    "tags": []
   },
   "outputs": [],
   "source": [
    "verbose = False"
   ]
  },
  {
   "cell_type": "code",
   "execution_count": 7,
   "id": "9f9866f9-81cb-4f7c-a7f2-be8a0bcb64b0",
   "metadata": {
    "tags": []
   },
   "outputs": [],
   "source": [
    "def f(x, y) -> int:\n",
    "    # x = (SCALE_UP_MAX_VALUE - 1) - ((SCALE_UP_MAX_VALUE - 1) - x)\n",
    "    # y = (SCALE_UP_MAX_VALUE - 1) - ((SCALE_UP_MAX_VALUE - 1) - y)\n",
    "\n",
    "    return np.sum(x ^ y)\n",
    "\n",
    "inputset = [\n",
    "    (\n",
    "        np.random.randint(0, INPUT_MAX_VALUE, size=INPUT_SHAPE, dtype=np.int64),\n",
    "        np.random.randint(0, INPUT_MAX_VALUE, size=INPUT_SHAPE, dtype=np.int64),\n",
    "    )\n",
    "    for _ in range(100)\n",
    "]\n",
    "configuration = cnp.Configuration(\n",
    "    enable_unsafe_features=True,\n",
    "    use_insecure_key_cache=True,\n",
    "    insecure_key_cache_location=\".keys\",\n",
    ")\n",
    "\n",
    "compiler = cnp.Compiler(f, {\"x\": \"encrypted\", \"y\": \"encrypted\"})\n",
    "circuit = compiler.compile(inputset, configuration, verbose=verbose)"
   ]
  },
  {
   "cell_type": "code",
   "execution_count": 8,
   "id": "33e8d37b-e8e8-4a56-91ae-ce05ba1a0e21",
   "metadata": {
    "tags": []
   },
   "outputs": [
    {
     "name": "stdout",
     "output_type": "stream",
     "text": [
      "%0 = x                          # EncryptedTensor<uint4, shape=(16,)>        ∈ [0, 15]\n",
      "%1 = y                          # EncryptedTensor<uint4, shape=(16,)>        ∈ [0, 15]\n",
      "%2 = bitwise_xor(%0, %1)        # EncryptedTensor<uint4, shape=(16,)>        ∈ [0, 15]\n",
      "%3 = sum(%2)                    # EncryptedScalar<uint8>                     ∈ [66, 168]\n",
      "return %3\n"
     ]
    }
   ],
   "source": [
    "print(circuit)"
   ]
  },
  {
   "cell_type": "code",
   "execution_count": null,
   "id": "6f078128-3ba4-4102-bbed-225d47d00f2b",
   "metadata": {
    "tags": []
   },
   "outputs": [],
   "source": [
    "start = time.time()\n",
    "circuit.keygen()\n",
    "end = time.time()\n",
    "print(\"keygen took\", end - start, \"seconds\")"
   ]
  },
  {
   "cell_type": "code",
   "execution_count": null,
   "id": "2491fc79-a83e-4b65-b329-efaa8554a148",
   "metadata": {
    "tags": []
   },
   "outputs": [],
   "source": [
    "print(circuit)"
   ]
  },
  {
   "cell_type": "code",
   "execution_count": 19,
   "id": "a7cb655e-b5b5-4f56-80b3-90b3e22a443a",
   "metadata": {
    "tags": []
   },
   "outputs": [],
   "source": [
    "sample_x = np.random.randint(0, 2**8, size=INPUT_SHAPE, dtype=np.int64)\n",
    "sample_y = np.random.randint(0, 2**8, size=INPUT_SHAPE, dtype=np.int64)\n",
    "args = circuit.encrypt(sample_x, sample_y)"
   ]
  },
  {
   "cell_type": "code",
   "execution_count": 20,
   "id": "22d925cc-4736-460e-8fea-f97fac24829e",
   "metadata": {
    "tags": []
   },
   "outputs": [
    {
     "name": "stdout",
     "output_type": "stream",
     "text": [
      "execution took 1784.006066083908 seconds\n"
     ]
    }
   ],
   "source": [
    "start = time.time()\n",
    "output = circuit.run(args)\n",
    "end = time.time()\n",
    "print(\"execution took\", end - start, \"seconds\")"
   ]
  },
  {
   "cell_type": "code",
   "execution_count": 21,
   "id": "b6f553d1-b1f0-48b5-be56-30066b9a989e",
   "metadata": {
    "tags": []
   },
   "outputs": [],
   "source": [
    "fhe_result = circuit.decrypt(output)"
   ]
  },
  {
   "cell_type": "code",
   "execution_count": 22,
   "id": "e3795c52-c7fa-4c30-8790-25a8f889b49b",
   "metadata": {
    "tags": []
   },
   "outputs": [],
   "source": [
    "clear_result = f(sample_x, sample_y)"
   ]
  },
  {
   "cell_type": "code",
   "execution_count": 23,
   "id": "7d7f1614-69c7-4f3b-b4b7-f62cf0937d30",
   "metadata": {
    "tags": []
   },
   "outputs": [],
   "source": [
    "assert fhe_result == clear_result"
   ]
  },
  {
   "cell_type": "code",
   "execution_count": 24,
   "id": "309cc6f7-9b91-4ce3-ad76-5bcd34913523",
   "metadata": {
    "tags": []
   },
   "outputs": [
    {
     "data": {
      "text/plain": [
       "29.733333333333334"
      ]
     },
     "execution_count": 24,
     "metadata": {},
     "output_type": "execute_result"
    }
   ],
   "source": [
    "1784 / 60"
   ]
  },
  {
   "cell_type": "code",
   "execution_count": null,
   "id": "3c4dd2a4-2de9-4bc4-a861-c2ff6b95b7b6",
   "metadata": {},
   "outputs": [],
   "source": []
  }
 ],
 "metadata": {
  "kernelspec": {
   "display_name": "Python 3 (ipykernel)",
   "language": "python",
   "name": "python3"
  },
  "language_info": {
   "codemirror_mode": {
    "name": "ipython",
    "version": 3
   },
   "file_extension": ".py",
   "mimetype": "text/x-python",
   "name": "python",
   "nbconvert_exporter": "python",
   "pygments_lexer": "ipython3",
   "version": "3.10.6"
  }
 },
 "nbformat": 4,
 "nbformat_minor": 5
}
