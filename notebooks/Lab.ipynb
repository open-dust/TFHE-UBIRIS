{
 "cells": [
  {
   "cell_type": "code",
   "execution_count": 1,
   "id": "e8001aeb-bb23-4bac-a4e0-15cfad6beeed",
   "metadata": {
    "tags": []
   },
   "outputs": [
    {
     "name": "stdout",
     "output_type": "stream",
     "text": [
      "[ 10 100] + [ 25 110] = [  8 100] = [  8 100]\n",
      "CPU times: user 5min 13s, sys: 3.3 s, total: 5min 16s\n",
      "Wall time: 1min 55s\n"
     ]
    }
   ],
   "source": [
    "%%time\n",
    "import numpy as np\n",
    "import concrete.numpy as cnp\n",
    "\n",
    "def mat_and(image0, image1):\n",
    "    x = image0 & image1\n",
    "    return x\n",
    "\n",
    "compiler = cnp.Compiler(mat_and, {\"image0\": \"encrypted\", \"image1\": \"encrypted\"})\n",
    "inputset = [(np.array([10, 100]), np.array([25, 110])),\n",
    "            (np.array([100, 1]), np.array([255, 12])),\n",
    "            (np.array([123, 0]), np.array([232, 33]))]\n",
    "\n",
    "circuit = compiler.compile(inputset)\n",
    "\n",
    "x, y = (np.array([10, 100]), np.array([25, 110]))\n",
    "\n",
    "clear_evaluation = mat_and(x, y)\n",
    "homomorphic_evaluation = circuit.encrypt_run_decrypt(x, y)\n",
    "\n",
    "print(x, \"+\", y, \"=\", clear_evaluation, \"=\", homomorphic_evaluation)"
   ]
  },
  {
   "cell_type": "code",
   "execution_count": 2,
   "id": "43a8dc0d-89b9-46d9-8ee4-ceec2106a472",
   "metadata": {
    "tags": []
   },
   "outputs": [
    {
     "name": "stdout",
     "output_type": "stream",
     "text": [
      "%0 = image0                     # EncryptedTensor<uint7, shape=(2,)>        ∈ [0, 123]\n",
      "%1 = image1                     # EncryptedTensor<uint8, shape=(2,)>        ∈ [12, 255]\n",
      "%2 = bitwise_and(%0, %1)        # EncryptedTensor<uint7, shape=(2,)>        ∈ [0, 104]\n",
      "return %2\n"
     ]
    }
   ],
   "source": [
    "print(circuit)"
   ]
  },
  {
   "cell_type": "code",
   "execution_count": 4,
   "id": "b12f44f1-76a0-4ffb-969e-7b532d31443d",
   "metadata": {
    "tags": []
   },
   "outputs": [
    {
     "name": "stdout",
     "output_type": "stream",
     "text": [
      "CPU times: user 37.2 s, sys: 455 ms, total: 37.6 s\n",
      "Wall time: 27.5 s\n"
     ]
    }
   ],
   "source": [
    "%%time\n",
    "homomorphic_evaluation = circuit.encrypt_run_decrypt(x, y)"
   ]
  },
  {
   "cell_type": "code",
   "execution_count": 5,
   "id": "c391a7b7-ca8f-4b6b-948b-9c42dd7c6b65",
   "metadata": {
    "tags": []
   },
   "outputs": [
    {
     "name": "stdout",
     "output_type": "stream",
     "text": [
      "concrete-compiler==0.24.0rc5\n",
      "concrete-numpy==0.11.1\n",
      "Note: you may need to restart the kernel to use updated packages.\n"
     ]
    }
   ],
   "source": [
    "pip freeze | grep concrete"
   ]
  },
  {
   "cell_type": "code",
   "execution_count": null,
   "id": "f4b6e760-6e82-40af-afd7-063d496e447d",
   "metadata": {},
   "outputs": [],
   "source": [
    "# Output: [ 10 100] + [ 25 110] = [  8 100] = [  8 100]"
   ]
  },
  {
   "cell_type": "code",
   "execution_count": 22,
   "id": "3497eabd-e0db-42f6-8a8a-2a487af0b3c0",
   "metadata": {
    "tags": []
   },
   "outputs": [],
   "source": [
    "def hamming_distance(x: np.ndarray, y: np.ndarray) -> int:\n",
    "    return np.sum(x ^ y)"
   ]
  },
  {
   "cell_type": "code",
   "execution_count": 80,
   "id": "e5eadddf-b799-4bad-b301-f99939ac2fc2",
   "metadata": {
    "tags": []
   },
   "outputs": [],
   "source": [
    "INPUT_SHAPE = (100,)"
   ]
  },
  {
   "cell_type": "code",
   "execution_count": 81,
   "id": "0439f919-e193-451d-8b50-b8166a969f33",
   "metadata": {
    "tags": []
   },
   "outputs": [],
   "source": [
    "inputset = tuple(\n",
    "    (np.random.randint(0, 256, size=INPUT_SHAPE, dtype=np.int64), np.random.randint(0, 256, size=INPUT_SHAPE, dtype=np.int64)) for _ in range(100)\n",
    ")"
   ]
  },
  {
   "cell_type": "code",
   "execution_count": 82,
   "id": "25603c35-6981-46b3-90a6-efd2bbe3abd1",
   "metadata": {
    "tags": []
   },
   "outputs": [],
   "source": [
    "compiler = cnp.Compiler(hamming_distance, {\"x\": \"encrypted\", \"y\": \"encrypted\"})"
   ]
  },
  {
   "cell_type": "code",
   "execution_count": 83,
   "id": "6cf53eaf-5676-4b0e-96d7-7899ae242de2",
   "metadata": {
    "tags": []
   },
   "outputs": [],
   "source": [
    "circuit = compiler.compile(inputset)"
   ]
  },
  {
   "cell_type": "code",
   "execution_count": 84,
   "id": "4e079b10-372a-426d-84dc-d2715379b941",
   "metadata": {
    "tags": []
   },
   "outputs": [],
   "source": [
    "x = np.random.randint(0, 256, size=INPUT_SHAPE, dtype=np.int64)\n",
    "y = np.random.randint(0, 256, size=INPUT_SHAPE, dtype=np.int64)"
   ]
  },
  {
   "cell_type": "code",
   "execution_count": 88,
   "id": "e6e5aa18-3491-4baf-b47e-1b98aea8da23",
   "metadata": {
    "tags": []
   },
   "outputs": [
    {
     "name": "stdout",
     "output_type": "stream",
     "text": [
      "CPU times: user 1h 54min 17s, sys: 9.34 s, total: 1h 54min 27s\n",
      "Wall time: 15min 24s\n"
     ]
    }
   ],
   "source": [
    "%%time\n",
    "fhe_result = circuit.encrypt_run_decrypt(x, y)"
   ]
  },
  {
   "cell_type": "code",
   "execution_count": 70,
   "id": "e0de2a97-909e-45e4-ab55-da53031402a0",
   "metadata": {
    "tags": []
   },
   "outputs": [],
   "source": [
    "result = hamming_distance(x, y)"
   ]
  },
  {
   "cell_type": "code",
   "execution_count": 71,
   "id": "4f95e6da-2a5e-4f61-ac36-a1d9a2298134",
   "metadata": {
    "tags": []
   },
   "outputs": [],
   "source": [
    "assert result == fhe_result"
   ]
  },
  {
   "cell_type": "code",
   "execution_count": 72,
   "id": "ac28420d-35e6-4dde-8d6f-fa4eedf5bde5",
   "metadata": {
    "tags": []
   },
   "outputs": [
    {
     "data": {
      "text/plain": [
       "32252"
      ]
     },
     "execution_count": 72,
     "metadata": {},
     "output_type": "execute_result"
    }
   ],
   "source": [
    "fhe_result"
   ]
  },
  {
   "cell_type": "code",
   "execution_count": 73,
   "id": "2c7446b9-d6f5-47cc-90c5-b6aba756e3c2",
   "metadata": {
    "tags": []
   },
   "outputs": [
    {
     "data": {
      "text/plain": [
       "32252"
      ]
     },
     "execution_count": 73,
     "metadata": {},
     "output_type": "execute_result"
    }
   ],
   "source": [
    "result"
   ]
  },
  {
   "cell_type": "code",
   "execution_count": 1,
   "id": "f4ef5c2e-b90b-4819-8f0f-764a8ea889ab",
   "metadata": {
    "tags": []
   },
   "outputs": [],
   "source": [
    "import numpy as np\n",
    "import concrete.numpy as cnp\n",
    "\n",
    "INPUT_SHAPE = (100,)\n",
    "\n",
    "def f(x: np.ndarray, y: np.ndarray) -> int:\n",
    "    return x ^ y\n",
    "\n",
    "inputset = tuple(\n",
    "    (np.random.randint(0, 256, size=INPUT_SHAPE, dtype=np.int64), np.random.randint(0, 256, size=INPUT_SHAPE, dtype=np.int64)) for _ in range(100)\n",
    ")\n",
    "\n",
    "compiler = cnp.Compiler(f, {\"x\": \"encrypted\", \"y\": \"encrypted\"})\n",
    "\n",
    "circuit = compiler.compile(inputset)"
   ]
  },
  {
   "cell_type": "code",
   "execution_count": 2,
   "id": "3986f766-f808-459d-9c10-a64088cb43a9",
   "metadata": {
    "tags": []
   },
   "outputs": [
    {
     "name": "stdout",
     "output_type": "stream",
     "text": [
      "%0 = x                          # EncryptedTensor<uint8, shape=(100,)>        ∈ [0, 255]\n",
      "%1 = y                          # EncryptedTensor<uint8, shape=(100,)>        ∈ [0, 255]\n",
      "%2 = bitwise_xor(%0, %1)        # EncryptedTensor<uint8, shape=(100,)>        ∈ [0, 255]\n",
      "return %2\n"
     ]
    }
   ],
   "source": [
    "print(circuit)"
   ]
  },
  {
   "cell_type": "code",
   "execution_count": 3,
   "id": "accd771e-1166-4d46-82c8-da0d0690313f",
   "metadata": {
    "tags": []
   },
   "outputs": [],
   "source": [
    "x = np.random.randint(0, 256, size=INPUT_SHAPE, dtype=np.int64)\n",
    "y = np.random.randint(0, 256, size=INPUT_SHAPE, dtype=np.int64)"
   ]
  },
  {
   "cell_type": "code",
   "execution_count": null,
   "id": "7ea915c7-f957-4b03-9273-16bbc427845a",
   "metadata": {
    "tags": []
   },
   "outputs": [],
   "source": [
    "%%time\n",
    "circuit.encrypt_run_decrypt(x, y)"
   ]
  },
  {
   "cell_type": "code",
   "execution_count": 113,
   "id": "3e348848-d5f8-470a-be5b-c3143e9da4a2",
   "metadata": {
    "tags": []
   },
   "outputs": [
    {
     "name": "stdout",
     "output_type": "stream",
     "text": [
      "512 + 512 = 1024 = 1024\n"
     ]
    }
   ],
   "source": [
    "import concrete.numpy as cnp\n",
    "\n",
    "def add(x, y):\n",
    "    return x + y\n",
    "\n",
    "compiler = cnp.Compiler(add, {\"x\": \"encrypted\", \"y\": \"clear\"})\n",
    "\n",
    "inputset = [(2, 3), (0, 0), (1, 6), (7, 7), (7, 512)]\n",
    "circuit = compiler.compile(inputset)\n",
    "\n",
    "x = 512\n",
    "y = 512\n",
    "\n",
    "clear_evaluation = add(x, y)\n",
    "homomorphic_evaluation = circuit.encrypt_run_decrypt(x, y)\n",
    "\n",
    "print(x, \"+\", y, \"=\", clear_evaluation, \"=\", homomorphic_evaluation)"
   ]
  },
  {
   "cell_type": "code",
   "execution_count": 123,
   "id": "9e93dff7-f9e6-4db4-8fbc-0263077d1657",
   "metadata": {
    "tags": []
   },
   "outputs": [
    {
     "data": {
      "text/plain": [
       "6152"
      ]
     },
     "execution_count": 123,
     "metadata": {},
     "output_type": "execute_result"
    }
   ],
   "source": [
    "circuit.size_of_secret_keys"
   ]
  },
  {
   "cell_type": "code",
   "execution_count": 125,
   "id": "a99bb23e-3fe8-4885-8d3b-2604a23b06dd",
   "metadata": {
    "tags": []
   },
   "outputs": [
    {
     "name": "stdout",
     "output_type": "stream",
     "text": [
      "%0 = x                  # EncryptedScalar<uint3>         ∈ [0, 7]\n",
      "%1 = y                  # ClearScalar<uint10>            ∈ [0, 512]\n",
      "%2 = add(%0, %1)        # EncryptedScalar<uint10>        ∈ [0, 519]\n",
      "return %2\n"
     ]
    }
   ],
   "source": [
    "print(circuit)"
   ]
  },
  {
   "cell_type": "code",
   "execution_count": 1,
   "id": "2e7317d6-a22d-4336-a45f-2d2ae1caabdf",
   "metadata": {},
   "outputs": [
    {
     "ename": "NameError",
     "evalue": "name 'np' is not defined",
     "output_type": "error",
     "traceback": [
      "\u001b[0;31m---------------------------------------------------------------------------\u001b[0m",
      "\u001b[0;31mNameError\u001b[0m                                 Traceback (most recent call last)",
      "Cell \u001b[0;32mIn[1], line 1\u001b[0m\n\u001b[0;32m----> 1\u001b[0m \u001b[38;5;28;01mdef\u001b[39;00m \u001b[38;5;21mhamming_distance\u001b[39m(x: \u001b[43mnp\u001b[49m\u001b[38;5;241m.\u001b[39mndarray, y: np\u001b[38;5;241m.\u001b[39mndarray) \u001b[38;5;241m-\u001b[39m\u001b[38;5;241m>\u001b[39m \u001b[38;5;28mint\u001b[39m:\n\u001b[1;32m      2\u001b[0m     \u001b[38;5;28;01mreturn\u001b[39;00m np\u001b[38;5;241m.\u001b[39msum(x \u001b[38;5;241m^\u001b[39m y)\n",
      "\u001b[0;31mNameError\u001b[0m: name 'np' is not defined"
     ]
    }
   ],
   "source": []
  },
  {
   "cell_type": "code",
   "execution_count": null,
   "id": "d2bc6158-0106-4460-a6e8-944595df8f0a",
   "metadata": {},
   "outputs": [],
   "source": []
  }
 ],
 "metadata": {
  "kernelspec": {
   "display_name": "Python 3 (ipykernel)",
   "language": "python",
   "name": "python3"
  },
  "language_info": {
   "codemirror_mode": {
    "name": "ipython",
    "version": 3
   },
   "file_extension": ".py",
   "mimetype": "text/x-python",
   "name": "python",
   "nbconvert_exporter": "python",
   "pygments_lexer": "ipython3",
   "version": "3.10.6"
  }
 },
 "nbformat": 4,
 "nbformat_minor": 5
}
