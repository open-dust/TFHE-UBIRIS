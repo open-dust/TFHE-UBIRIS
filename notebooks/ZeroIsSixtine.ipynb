{
 "cells": [
  {
   "cell_type": "code",
   "execution_count": 103,
   "id": "6869ab11-07e4-41a0-9892-3a415b94c978",
   "metadata": {
    "tags": []
   },
   "outputs": [],
   "source": [
    "import numpy as np\n",
    "import concrete.numpy as cnp"
   ]
  },
  {
   "cell_type": "code",
   "execution_count": 104,
   "id": "fdd79280-d227-4701-8776-af6466c6b86d",
   "metadata": {
    "tags": []
   },
   "outputs": [],
   "source": [
    "from functools import reduce"
   ]
  },
  {
   "cell_type": "code",
   "execution_count": 105,
   "id": "16b62dd1-7bd3-4bde-97be-8b804afe51f2",
   "metadata": {
    "tags": []
   },
   "outputs": [],
   "source": [
    "def min_scalar(x, y):\n",
    "    return (x + y - abs(x - y)) // 2"
   ]
  },
  {
   "cell_type": "code",
   "execution_count": 106,
   "id": "63109d54-5fb5-49a6-8681-2df969c1cf5c",
   "metadata": {
    "tags": []
   },
   "outputs": [],
   "source": [
    "def min_array(a):\n",
    "    return reduce(min_scalar, a)"
   ]
  },
  {
   "cell_type": "code",
   "execution_count": 107,
   "id": "6ddbb1ce-7dc7-4412-947c-7065c48149c7",
   "metadata": {
    "tags": []
   },
   "outputs": [],
   "source": [
    "compiler = cnp.Compiler(min_array, {\"a\": \"encrypted\"})"
   ]
  },
  {
   "cell_type": "code",
   "execution_count": 108,
   "id": "ecd6ddf6-2c26-48a4-bfdb-352db8b78ae6",
   "metadata": {
    "tags": []
   },
   "outputs": [],
   "source": [
    "inputset = [[0, 5, 1, 15], [2, 3, 10, 15]]"
   ]
  },
  {
   "cell_type": "code",
   "execution_count": 109,
   "id": "be5982ed-c40a-4ab1-b329-291548ea3c78",
   "metadata": {
    "tags": []
   },
   "outputs": [],
   "source": [
    "circuit = compiler.compile(inputset)"
   ]
  },
  {
   "cell_type": "code",
   "execution_count": 110,
   "id": "5751e905-d321-4252-a72d-4a10705377eb",
   "metadata": {
    "tags": []
   },
   "outputs": [
    {
     "name": "stdout",
     "output_type": "stream",
     "text": [
      " %0 = a                             # EncryptedTensor<uint4, shape=(4,)>        ∈ [0, 15]\n",
      " %1 = %0[0]                         # EncryptedScalar<uint2>                    ∈ [0, 2]\n",
      " %2 = %0[1]                         # EncryptedScalar<uint3>                    ∈ [3, 5]\n",
      " %3 = add(%1, %2)                   # EncryptedScalar<uint3>                    ∈ [5, 5]\n",
      " %4 = subtract(%1, %2)              # EncryptedScalar<int4>                     ∈ [-5, -1]\n",
      " %5 = absolute(%4)                  # EncryptedScalar<uint3>                    ∈ [1, 5]\n",
      " %6 = subtract(%3, %5)              # EncryptedScalar<uint3>                    ∈ [0, 4]\n",
      " %7 = 2                             # ClearScalar<uint2>                        ∈ [2, 2]\n",
      " %8 = floor_divide(%6, %7)          # EncryptedScalar<uint2>                    ∈ [0, 2]\n",
      " %9 = %0[2]                         # EncryptedScalar<uint4>                    ∈ [1, 10]\n",
      "%10 = add(%8, %9)                   # EncryptedScalar<uint4>                    ∈ [1, 12]\n",
      "%11 = subtract(%8, %9)              # EncryptedScalar<int4>                     ∈ [-8, -1]\n",
      "%12 = absolute(%11)                 # EncryptedScalar<uint4>                    ∈ [1, 8]\n",
      "%13 = subtract(%10, %12)            # EncryptedScalar<uint3>                    ∈ [0, 4]\n",
      "%14 = 2                             # ClearScalar<uint2>                        ∈ [2, 2]\n",
      "%15 = floor_divide(%13, %14)        # EncryptedScalar<uint2>                    ∈ [0, 2]\n",
      "%16 = %0[3]                         # EncryptedScalar<uint4>                    ∈ [15, 15]\n",
      "%17 = add(%15, %16)                 # EncryptedScalar<uint5>                    ∈ [15, 17]\n",
      "%18 = subtract(%15, %16)            # EncryptedScalar<int5>                     ∈ [-15, -13]\n",
      "%19 = absolute(%18)                 # EncryptedScalar<uint4>                    ∈ [13, 15]\n",
      "%20 = subtract(%17, %19)            # EncryptedScalar<uint3>                    ∈ [0, 4]\n",
      "%21 = 2                             # ClearScalar<uint2>                        ∈ [2, 2]\n",
      "%22 = floor_divide(%20, %21)        # EncryptedScalar<uint2>                    ∈ [0, 2]\n",
      "return %22\n"
     ]
    }
   ],
   "source": [
    "print(circuit)"
   ]
  },
  {
   "cell_type": "code",
   "execution_count": 117,
   "id": "96171a7a-bff0-4d51-9239-697cbf459c4e",
   "metadata": {
    "tags": []
   },
   "outputs": [],
   "source": [
    "a = np.array([1, 5, 0, 15])"
   ]
  },
  {
   "cell_type": "code",
   "execution_count": 118,
   "id": "62f1e8ac-dde8-4173-9ad8-7197498d21f9",
   "metadata": {
    "tags": []
   },
   "outputs": [
    {
     "data": {
      "text/plain": [
       "0"
      ]
     },
     "execution_count": 118,
     "metadata": {},
     "output_type": "execute_result"
    }
   ],
   "source": [
    "min_array(a)"
   ]
  },
  {
   "cell_type": "code",
   "execution_count": 119,
   "id": "dd8463f5-21c3-401a-878c-90153426e0ea",
   "metadata": {
    "tags": []
   },
   "outputs": [
    {
     "data": {
      "text/plain": [
       "0"
      ]
     },
     "execution_count": 119,
     "metadata": {},
     "output_type": "execute_result"
    }
   ],
   "source": [
    "circuit.encrypt_run_decrypt(a)"
   ]
  },
  {
   "cell_type": "code",
   "execution_count": null,
   "id": "8e1253b5-a78f-4018-82ff-c106c27c0c14",
   "metadata": {},
   "outputs": [],
   "source": []
  }
 ],
 "metadata": {
  "kernelspec": {
   "display_name": "Python 3 (ipykernel)",
   "language": "python",
   "name": "python3"
  },
  "language_info": {
   "codemirror_mode": {
    "name": "ipython",
    "version": 3
   },
   "file_extension": ".py",
   "mimetype": "text/x-python",
   "name": "python",
   "nbconvert_exporter": "python",
   "pygments_lexer": "ipython3",
   "version": "3.10.6"
  }
 },
 "nbformat": 4,
 "nbformat_minor": 5
}
