{
 "cells": [
  {
   "cell_type": "code",
   "execution_count": 2,
   "id": "b68a03a8-66ac-4ea6-8877-d9f275c426c8",
   "metadata": {
    "tags": []
   },
   "outputs": [],
   "source": [
    "import concrete.numpy as cnp"
   ]
  },
  {
   "cell_type": "code",
   "execution_count": 4,
   "id": "cc450eeb-80bd-47d6-80a5-30412d6b915b",
   "metadata": {
    "tags": []
   },
   "outputs": [],
   "source": [
    "server = cnp.Server.load(\"server.zip\")"
   ]
  },
  {
   "cell_type": "code",
   "execution_count": 46,
   "id": "a2714e44-c220-493b-a496-76a6c576fc4d",
   "metadata": {
    "tags": []
   },
   "outputs": [],
   "source": [
    "database = [1, 2, 3]\n",
    "length = 3"
   ]
  },
  {
   "cell_type": "code",
   "execution_count": 47,
   "id": "ededbaea-6580-4ef1-a2a0-17eb37345251",
   "metadata": {
    "tags": []
   },
   "outputs": [],
   "source": [
    "def add(x):\n",
    "    for i in range(length):\n",
    "        x = x + database[i]\n",
    "    return x"
   ]
  },
  {
   "cell_type": "code",
   "execution_count": 48,
   "id": "28a6a655-1347-4786-90f2-0508f4a39045",
   "metadata": {
    "tags": []
   },
   "outputs": [],
   "source": [
    "compiler = cnp.Compiler(add, {\"x\": \"encrypted\"})"
   ]
  },
  {
   "cell_type": "code",
   "execution_count": 49,
   "id": "6ae28109-d78c-419c-9515-d234999c7b80",
   "metadata": {
    "tags": []
   },
   "outputs": [],
   "source": [
    "circuit = compiler.compile(list(range(15)))"
   ]
  },
  {
   "cell_type": "code",
   "execution_count": 53,
   "id": "25123519-c254-4c3a-9671-0b3f6cb9a46a",
   "metadata": {
    "tags": []
   },
   "outputs": [
    {
     "data": {
      "text/plain": [
       "11"
      ]
     },
     "execution_count": 53,
     "metadata": {},
     "output_type": "execute_result"
    }
   ],
   "source": [
    "circuit.encrypt_run_decrypt(5)"
   ]
  },
  {
   "cell_type": "code",
   "execution_count": 51,
   "id": "6f766a43-28b5-42cc-a17b-615315381d65",
   "metadata": {
    "tags": []
   },
   "outputs": [],
   "source": [
    "database[2] = 4"
   ]
  },
  {
   "cell_type": "code",
   "execution_count": 52,
   "id": "0ebc17ce-7c3a-4fd9-90b1-5a36d3303bd7",
   "metadata": {
    "tags": []
   },
   "outputs": [
    {
     "data": {
      "text/plain": [
       "[1, 2, 4]"
      ]
     },
     "execution_count": 52,
     "metadata": {},
     "output_type": "execute_result"
    }
   ],
   "source": [
    "database"
   ]
  },
  {
   "cell_type": "code",
   "execution_count": 42,
   "id": "3cd8d334-4a6e-4d2e-bc7a-23d2fa638e73",
   "metadata": {
    "tags": []
   },
   "outputs": [],
   "source": [
    "one = circuit.encrypt(1)"
   ]
  },
  {
   "cell_type": "code",
   "execution_count": 24,
   "id": "56319de0-c4e0-4a44-a9b6-bc23da28428d",
   "metadata": {
    "tags": []
   },
   "outputs": [],
   "source": [
    "database = [one, one, one]"
   ]
  },
  {
   "cell_type": "code",
   "execution_count": 28,
   "id": "21bc43bd-7b3c-4c06-99d9-7a64767008a3",
   "metadata": {
    "tags": []
   },
   "outputs": [],
   "source": [
    "one_pa = one.cpp()"
   ]
  },
  {
   "cell_type": "code",
   "execution_count": 31,
   "id": "3a25fa35-d3c6-409c-9013-d1f2be45a1a5",
   "metadata": {
    "tags": []
   },
   "outputs": [
    {
     "ename": "TypeError",
     "evalue": "unsupported operand type(s) for +: 'mlir._mlir_libs._concretelang._compiler.PublicArguments' and 'mlir._mlir_libs._concretelang._compiler.PublicArguments'",
     "output_type": "error",
     "traceback": [
      "\u001b[0;31m---------------------------------------------------------------------------\u001b[0m",
      "\u001b[0;31mTypeError\u001b[0m                                 Traceback (most recent call last)",
      "Cell \u001b[0;32mIn[31], line 1\u001b[0m\n\u001b[0;32m----> 1\u001b[0m \u001b[43mone_pa\u001b[49m\u001b[43m \u001b[49m\u001b[38;5;241;43m+\u001b[39;49m\u001b[43m \u001b[49m\u001b[43mone_pa\u001b[49m\n",
      "\u001b[0;31mTypeError\u001b[0m: unsupported operand type(s) for +: 'mlir._mlir_libs._concretelang._compiler.PublicArguments' and 'mlir._mlir_libs._concretelang._compiler.PublicArguments'"
     ]
    }
   ],
   "source": [
    "one_pa + one_pa"
   ]
  },
  {
   "cell_type": "code",
   "execution_count": null,
   "id": "a765a3a0-254c-4197-a20b-bd1933052745",
   "metadata": {},
   "outputs": [],
   "source": []
  }
 ],
 "metadata": {
  "kernelspec": {
   "display_name": "Python 3 (ipykernel)",
   "language": "python",
   "name": "python3"
  },
  "language_info": {
   "codemirror_mode": {
    "name": "ipython",
    "version": 3
   },
   "file_extension": ".py",
   "mimetype": "text/x-python",
   "name": "python",
   "nbconvert_exporter": "python",
   "pygments_lexer": "ipython3",
   "version": "3.10.6"
  }
 },
 "nbformat": 4,
 "nbformat_minor": 5
}
