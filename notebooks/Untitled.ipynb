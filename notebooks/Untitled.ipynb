{
 "cells": [
  {
   "cell_type": "code",
   "execution_count": 3,
   "id": "efa02d3f-c3d7-4b0c-93f5-f1e0459eeba4",
   "metadata": {
    "tags": []
   },
   "outputs": [],
   "source": [
    "import numpy as np\n",
    "import concrete.numpy as cnp"
   ]
  },
  {
   "cell_type": "code",
   "execution_count": 4,
   "id": "750c270f-e642-4052-a640-7f6733f2054c",
   "metadata": {
    "tags": []
   },
   "outputs": [],
   "source": [
    "def f(x):\n",
    "    return np.sum(x)"
   ]
  },
  {
   "cell_type": "code",
   "execution_count": 5,
   "id": "f02fbb98-c932-4424-b38b-fafaf7e0ac60",
   "metadata": {
    "tags": []
   },
   "outputs": [],
   "source": [
    "size = 1536\n",
    "max_value = 256"
   ]
  },
  {
   "cell_type": "code",
   "execution_count": 6,
   "id": "02dab1dc-966d-4ac6-80e6-941b9d6eccf5",
   "metadata": {
    "tags": []
   },
   "outputs": [],
   "source": [
    "compiler = cnp.Compiler(f, {\"x\": \"encrypted\"})\n",
    "circuit = compiler.compile([np.random.randint(0, max_value, size) for _ in range(100)])"
   ]
  },
  {
   "cell_type": "code",
   "execution_count": 7,
   "id": "1ef2b9e5-4cf3-4261-a686-a680f33207cb",
   "metadata": {
    "tags": []
   },
   "outputs": [
    {
     "name": "stdout",
     "output_type": "stream",
     "text": [
      "%0 = x              # EncryptedTensor<uint8, shape=(1536,)>        ∈ [0, 255]\n",
      "%1 = sum(%0)        # EncryptedScalar<uint18>                      ∈ [188114, 203480]\n",
      "return %1\n"
     ]
    }
   ],
   "source": [
    "print(circuit)"
   ]
  },
  {
   "cell_type": "code",
   "execution_count": 8,
   "id": "2c7975ac-2343-4ff3-84d6-9214c1e031d8",
   "metadata": {
    "tags": []
   },
   "outputs": [
    {
     "data": {
      "text/plain": [
       "True"
      ]
     },
     "execution_count": 8,
     "metadata": {},
     "output_type": "execute_result"
    }
   ],
   "source": [
    "a = np.random.randint(0, max_value, size)\n",
    "circuit.encrypt_run_decrypt(a) == np.sum(a)"
   ]
  },
  {
   "cell_type": "code",
   "execution_count": 17,
   "id": "59056323-b895-4266-b47d-a4de3d2090b8",
   "metadata": {
    "tags": []
   },
   "outputs": [],
   "source": [
    "def hamming_distance(x, y) -> int:\n",
    "    return np.sum(x + y)"
   ]
  },
  {
   "cell_type": "code",
   "execution_count": 18,
   "id": "64d31fd1-5211-4778-9bcf-d0795dd93d5c",
   "metadata": {
    "tags": []
   },
   "outputs": [],
   "source": [
    "compiler = cnp.Compiler(hamming_distance, {\"x\": \"encrypted\", \"y\": \"encrypted\"})\n",
    "circuit = compiler.compile([(np.random.randint(0, max_value, size), np.random.randint(0, max_value, size)) for _ in range(100)])"
   ]
  },
  {
   "cell_type": "code",
   "execution_count": 114,
   "id": "6990e00f-0934-4967-b18c-1bbc8a0cb350",
   "metadata": {
    "collapsed": true,
    "jupyter": {
     "outputs_hidden": true
    },
    "tags": []
   },
   "outputs": [
    {
     "ename": "ValueError",
     "evalue": "Input #0 of your inputset is not well formed (expected a single value got a tuple of 2 values)",
     "output_type": "error",
     "traceback": [
      "\u001b[0;31m---------------------------------------------------------------------------\u001b[0m",
      "\u001b[0;31mValueError\u001b[0m                                Traceback (most recent call last)",
      "Cell \u001b[0;32mIn[114], line 1\u001b[0m\n\u001b[0;32m----> 1\u001b[0m circuit \u001b[38;5;241m=\u001b[39m \u001b[43mcompiler\u001b[49m\u001b[38;5;241;43m.\u001b[39;49m\u001b[43mcompile\u001b[49m\u001b[43m(\u001b[49m\u001b[43m[\u001b[49m\u001b[43m(\u001b[49m\u001b[38;5;241;43m1\u001b[39;49m\u001b[43m,\u001b[49m\u001b[43m \u001b[49m\u001b[38;5;241;43m2\u001b[39;49m\u001b[43m)\u001b[49m\u001b[43m,\u001b[49m\u001b[43m \u001b[49m\u001b[43m(\u001b[49m\u001b[38;5;241;43m3\u001b[39;49m\u001b[43m,\u001b[49m\u001b[43m \u001b[49m\u001b[38;5;241;43m4\u001b[39;49m\u001b[43m)\u001b[49m\u001b[43m,\u001b[49m\u001b[43m \u001b[49m\u001b[43m(\u001b[49m\u001b[38;5;241;43m255\u001b[39;49m\u001b[43m,\u001b[49m\u001b[43m \u001b[49m\u001b[38;5;241;43m255\u001b[39;49m\u001b[43m)\u001b[49m\u001b[43m,\u001b[49m\u001b[43m \u001b[49m\u001b[43m(\u001b[49m\u001b[38;5;241;43m255\u001b[39;49m\u001b[38;5;241;43m*\u001b[39;49m\u001b[38;5;241;43m255\u001b[39;49m\u001b[43m,\u001b[49m\u001b[43m \u001b[49m\u001b[38;5;241;43m255\u001b[39;49m\u001b[38;5;241;43m*\u001b[39;49m\u001b[38;5;241;43m255\u001b[39;49m\u001b[43m)\u001b[49m\u001b[43m,\u001b[49m\u001b[43m \u001b[49m\u001b[43m(\u001b[49m\u001b[38;5;241;43m255\u001b[39;49m\u001b[38;5;241;43m*\u001b[39;49m\u001b[38;5;241;43m255\u001b[39;49m\u001b[38;5;241;43m*\u001b[39;49m\u001b[38;5;241;43m255\u001b[39;49m\u001b[38;5;241;43m*\u001b[39;49m\u001b[38;5;241;43m255\u001b[39;49m\u001b[43m,\u001b[49m\u001b[43m \u001b[49m\u001b[38;5;241;43m255\u001b[39;49m\u001b[38;5;241;43m*\u001b[39;49m\u001b[38;5;241;43m255\u001b[39;49m\u001b[38;5;241;43m*\u001b[39;49m\u001b[38;5;241;43m255\u001b[39;49m\u001b[38;5;241;43m*\u001b[39;49m\u001b[38;5;241;43m255\u001b[39;49m\u001b[43m)\u001b[49m\u001b[43m]\u001b[49m\u001b[43m)\u001b[49m\n",
      "File \u001b[0;32m~/workspace/tfhe-ubiris/venv/lib/python3.10/site-packages/concrete/numpy/compilation/compiler.py:439\u001b[0m, in \u001b[0;36mCompiler.compile\u001b[0;34m(self, inputset, configuration, artifacts, **kwargs)\u001b[0m\n\u001b[1;32m    430\u001b[0m \u001b[38;5;28mself\u001b[39m\u001b[38;5;241m.\u001b[39martifacts \u001b[38;5;241m=\u001b[39m (\n\u001b[1;32m    431\u001b[0m     artifacts\n\u001b[1;32m    432\u001b[0m     \u001b[38;5;28;01mif\u001b[39;00m artifacts \u001b[38;5;129;01mis\u001b[39;00m \u001b[38;5;129;01mnot\u001b[39;00m \u001b[38;5;28;01mNone\u001b[39;00m\n\u001b[0;32m   (...)\u001b[0m\n\u001b[1;32m    435\u001b[0m     \u001b[38;5;28;01melse\u001b[39;00m \u001b[38;5;28;01mNone\u001b[39;00m\n\u001b[1;32m    436\u001b[0m )\n\u001b[1;32m    438\u001b[0m \u001b[38;5;28;01mtry\u001b[39;00m:\n\u001b[0;32m--> 439\u001b[0m     \u001b[38;5;28;43mself\u001b[39;49m\u001b[38;5;241;43m.\u001b[39;49m\u001b[43m_evaluate\u001b[49m\u001b[43m(\u001b[49m\u001b[38;5;124;43m\"\u001b[39;49m\u001b[38;5;124;43mCompiling\u001b[39;49m\u001b[38;5;124;43m\"\u001b[39;49m\u001b[43m,\u001b[49m\u001b[43m \u001b[49m\u001b[43minputset\u001b[49m\u001b[43m)\u001b[49m\n\u001b[1;32m    440\u001b[0m     \u001b[38;5;28;01massert\u001b[39;00m \u001b[38;5;28mself\u001b[39m\u001b[38;5;241m.\u001b[39mgraph \u001b[38;5;129;01mis\u001b[39;00m \u001b[38;5;129;01mnot\u001b[39;00m \u001b[38;5;28;01mNone\u001b[39;00m\n\u001b[1;32m    442\u001b[0m     mlir \u001b[38;5;241m=\u001b[39m GraphConverter\u001b[38;5;241m.\u001b[39mconvert(\u001b[38;5;28mself\u001b[39m\u001b[38;5;241m.\u001b[39mgraph, virtual\u001b[38;5;241m=\u001b[39m\u001b[38;5;28mself\u001b[39m\u001b[38;5;241m.\u001b[39mconfiguration\u001b[38;5;241m.\u001b[39mvirtual)\n",
      "File \u001b[0;32m~/workspace/tfhe-ubiris/venv/lib/python3.10/site-packages/concrete/numpy/compilation/compiler.py:265\u001b[0m, in \u001b[0;36mCompiler._evaluate\u001b[0;34m(self, action, inputset)\u001b[0m\n\u001b[1;32m    257\u001b[0m             actual \u001b[38;5;241m=\u001b[39m (\n\u001b[1;32m    258\u001b[0m                 \u001b[38;5;124m\"\u001b[39m\u001b[38;5;124ma single value\u001b[39m\u001b[38;5;124m\"\u001b[39m \u001b[38;5;28;01mif\u001b[39;00m \u001b[38;5;28mlen\u001b[39m(sample) \u001b[38;5;241m==\u001b[39m \u001b[38;5;241m1\u001b[39m \u001b[38;5;28;01melse\u001b[39;00m \u001b[38;5;124mf\u001b[39m\u001b[38;5;124m\"\u001b[39m\u001b[38;5;124ma tuple of \u001b[39m\u001b[38;5;132;01m{\u001b[39;00m\u001b[38;5;28mlen\u001b[39m(sample)\u001b[38;5;132;01m}\u001b[39;00m\u001b[38;5;124m values\u001b[39m\u001b[38;5;124m\"\u001b[39m\n\u001b[1;32m    259\u001b[0m             )\n\u001b[1;32m    261\u001b[0m             message \u001b[38;5;241m=\u001b[39m (\n\u001b[1;32m    262\u001b[0m                 \u001b[38;5;124mf\u001b[39m\u001b[38;5;124m\"\u001b[39m\u001b[38;5;124mInput #\u001b[39m\u001b[38;5;132;01m{\u001b[39;00mindex\u001b[38;5;132;01m}\u001b[39;00m\u001b[38;5;124m of your inputset is not well formed \u001b[39m\u001b[38;5;124m\"\u001b[39m\n\u001b[1;32m    263\u001b[0m                 \u001b[38;5;124mf\u001b[39m\u001b[38;5;124m\"\u001b[39m\u001b[38;5;124m(expected \u001b[39m\u001b[38;5;132;01m{\u001b[39;00mexpected\u001b[38;5;132;01m}\u001b[39;00m\u001b[38;5;124m got \u001b[39m\u001b[38;5;132;01m{\u001b[39;00mactual\u001b[38;5;132;01m}\u001b[39;00m\u001b[38;5;124m)\u001b[39m\u001b[38;5;124m\"\u001b[39m\n\u001b[1;32m    264\u001b[0m             )\n\u001b[0;32m--> 265\u001b[0m             \u001b[38;5;28;01mraise\u001b[39;00m \u001b[38;5;167;01mValueError\u001b[39;00m(message)\n\u001b[1;32m    267\u001b[0m \u001b[38;5;28;01mif\u001b[39;00m \u001b[38;5;28mself\u001b[39m\u001b[38;5;241m.\u001b[39mconfiguration\u001b[38;5;241m.\u001b[39mauto_adjust_rounders:\n\u001b[1;32m    268\u001b[0m     AutoRounder\u001b[38;5;241m.\u001b[39madjust(\u001b[38;5;28mself\u001b[39m\u001b[38;5;241m.\u001b[39mfunction, \u001b[38;5;28mself\u001b[39m\u001b[38;5;241m.\u001b[39minputset)\n",
      "\u001b[0;31mValueError\u001b[0m: Input #0 of your inputset is not well formed (expected a single value got a tuple of 2 values)"
     ]
    }
   ],
   "source": [
    "circuit = compiler.compile([(1, 2), (3, 4), (255, 255), (255*255, 255*255), (255*255*255*255, 255*255*255*255)])"
   ]
  },
  {
   "cell_type": "code",
   "execution_count": null,
   "id": "3b40ad6e-d919-41dd-8c82-4f1ba7e77372",
   "metadata": {
    "tags": []
   },
   "outputs": [],
   "source": [
    "print(circuit)"
   ]
  },
  {
   "cell_type": "code",
   "execution_count": 64,
   "id": "e22a410d-062b-4957-a219-f0adcc0617cf",
   "metadata": {
    "tags": []
   },
   "outputs": [
    {
     "data": {
      "text/plain": [
       "8473082625"
      ]
     },
     "execution_count": 64,
     "metadata": {},
     "output_type": "execute_result"
    }
   ],
   "source": [
    "circuit.encrypt_run_decrypt(255*255*255*255, 255*256*255*255)"
   ]
  },
  {
   "cell_type": "code",
   "execution_count": 65,
   "id": "a0ba59d4-cadb-4289-890f-f20673dbe12c",
   "metadata": {
    "tags": []
   },
   "outputs": [
    {
     "data": {
      "text/plain": [
       "8473082625"
      ]
     },
     "execution_count": 65,
     "metadata": {},
     "output_type": "execute_result"
    }
   ],
   "source": [
    "255*255*255*255 + 255*256*255*255"
   ]
  },
  {
   "cell_type": "code",
   "execution_count": 39,
   "id": "c8af6056-0bb6-4e60-8d33-46526257ede6",
   "metadata": {
    "tags": []
   },
   "outputs": [
    {
     "data": {
      "text/plain": [
       "65536"
      ]
     },
     "execution_count": 39,
     "metadata": {},
     "output_type": "execute_result"
    }
   ],
   "source": [
    "2**16"
   ]
  },
  {
   "cell_type": "code",
   "execution_count": 40,
   "id": "4cc53e56-7320-439c-a9cc-ad1ae32a2c98",
   "metadata": {
    "tags": []
   },
   "outputs": [
    {
     "data": {
      "text/plain": [
       "65536"
      ]
     },
     "execution_count": 40,
     "metadata": {},
     "output_type": "execute_result"
    }
   ],
   "source": [
    "256*256"
   ]
  },
  {
   "cell_type": "code",
   "execution_count": null,
   "id": "e6ab309c-a68a-402d-af18-3862f616d16c",
   "metadata": {},
   "outputs": [],
   "source": []
  }
 ],
 "metadata": {
  "kernelspec": {
   "display_name": "Python 3 (ipykernel)",
   "language": "python",
   "name": "python3"
  },
  "language_info": {
   "codemirror_mode": {
    "name": "ipython",
    "version": 3
   },
   "file_extension": ".py",
   "mimetype": "text/x-python",
   "name": "python",
   "nbconvert_exporter": "python",
   "pygments_lexer": "ipython3",
   "version": "3.10.6"
  }
 },
 "nbformat": 4,
 "nbformat_minor": 5
}
