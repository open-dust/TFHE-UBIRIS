{
 "cells": [
  {
   "cell_type": "code",
   "execution_count": 1,
   "id": "a67e9b86-51cb-4393-bcbb-4d242bf12e2a",
   "metadata": {
    "tags": []
   },
   "outputs": [],
   "source": [
    "import numpy as np\n",
    "import concrete.numpy as cnp\n",
    "from functools import reduce"
   ]
  },
  {
   "cell_type": "code",
   "execution_count": 3,
   "id": "1a6281cc-de55-49d6-bc67-63c5600bfe21",
   "metadata": {
    "tags": []
   },
   "outputs": [],
   "source": [
    "FHE_SERVER_PATH = \"server.zip\"\n",
    "\n",
    "fhe_server = cnp.Server.load(FHE_SERVER_PATH)"
   ]
  },
  {
   "cell_type": "code",
   "execution_count": 40,
   "id": "3f18e961-6f7a-41e9-85fd-c781ffc0fe0a",
   "metadata": {
    "tags": []
   },
   "outputs": [],
   "source": [
    "def generate_rotate_shift_rightx(x, globals_=None, locals_=None):\n",
    "    function_body = f\"\"\"def rotate_shift_right{x}(a):\n",
    "    return np.concatenate((a[-{x}:], a[:-{x}])).astype('int64')\"\"\"\n",
    "    exec(function_body, globals_, locals_)"
   ]
  },
  {
   "cell_type": "code",
   "execution_count": 41,
   "id": "100b8cf2-c918-4fa7-bc8a-e3324bc9d02f",
   "metadata": {
    "tags": []
   },
   "outputs": [],
   "source": [
    "def generate_rotate_shift_leftx(x, globals_=None, locals_=None):\n",
    "    function_body = f\"\"\"def rotate_shift_left{x}(a):\n",
    "    return np.concatenate((a[{x}:], a[:{x}])).astype('int64')\"\"\"\n",
    "    exec(function_body, globals_, locals_)"
   ]
  },
  {
   "cell_type": "code",
   "execution_count": 42,
   "id": "79fe15ac-132e-499f-a866-bd7711aa394f",
   "metadata": {
    "tags": []
   },
   "outputs": [],
   "source": [
    "shift = 2"
   ]
  },
  {
   "cell_type": "code",
   "execution_count": 43,
   "id": "074e7c90-bf54-45e1-8f9b-a12272287790",
   "metadata": {
    "tags": []
   },
   "outputs": [],
   "source": [
    "for s in range(1, shift + 1):\n",
    "    generate_rotate_shift_rightx(s, globals(), locals())\n",
    "    generate_rotate_shift_leftx(s, globals(), locals())"
   ]
  },
  {
   "cell_type": "code",
   "execution_count": 44,
   "id": "0f5f4417-c818-40d3-a479-7c66bef1958b",
   "metadata": {
    "tags": []
   },
   "outputs": [],
   "source": [
    "a = np.array([1, 2, 3, 4])\n",
    "b = np.array([3, 2, 1, 1])"
   ]
  },
  {
   "cell_type": "code",
   "execution_count": 45,
   "id": "78a1b407-f3a4-4973-87a5-5ee0b6200cce",
   "metadata": {
    "tags": []
   },
   "outputs": [
    {
     "data": {
      "text/plain": [
       "array([4, 1, 2, 3])"
      ]
     },
     "execution_count": 45,
     "metadata": {},
     "output_type": "execute_result"
    }
   ],
   "source": [
    "rotate_shift_right1(a)"
   ]
  },
  {
   "cell_type": "code",
   "execution_count": 46,
   "id": "d3b7fcc8-a70c-4f17-a614-f1a7a8d15501",
   "metadata": {
    "tags": []
   },
   "outputs": [
    {
     "data": {
      "text/plain": [
       "array([2, 3, 4, 1])"
      ]
     },
     "execution_count": 46,
     "metadata": {},
     "output_type": "execute_result"
    }
   ],
   "source": [
    "rotate_shift_left1(a)"
   ]
  },
  {
   "cell_type": "code",
   "execution_count": 47,
   "id": "5b0aedee-7e07-4456-bb97-34d63390fc3d",
   "metadata": {
    "tags": []
   },
   "outputs": [],
   "source": [
    "def hamming_distance(x, y) -> int:\n",
    "    return np.sum(x ^ y)"
   ]
  },
  {
   "cell_type": "code",
   "execution_count": 48,
   "id": "18e0717a-0eb3-4ad5-a604-5e1903b5bde9",
   "metadata": {
    "tags": []
   },
   "outputs": [],
   "source": [
    "def min_scalar(x, y):\n",
    "    return (x + y - abs(x - y)) // 2"
   ]
  },
  {
   "cell_type": "code",
   "execution_count": 49,
   "id": "4cbacf08-868d-48ea-aa11-ec9b5aa6df82",
   "metadata": {
    "tags": []
   },
   "outputs": [],
   "source": [
    "def min_array(a):\n",
    "    return reduce(min_scalar, a)"
   ]
  },
  {
   "cell_type": "code",
   "execution_count": 50,
   "id": "6de88918-9314-4dbd-a6a7-865b31c48763",
   "metadata": {
    "tags": []
   },
   "outputs": [],
   "source": [
    "def best_shifted_hamming_distance(x, y):\n",
    "    h = hamming_distance(x, y)\n",
    "\n",
    "    l1 = rotate_shift_left1(x)\n",
    "    l2 = rotate_shift_left2(x)\n",
    "\n",
    "    hl1 = hamming_distance(l1, y)\n",
    "    hl2 = hamming_distance(l2, y)\n",
    "\n",
    "    r1 = rotate_shift_right1(x)\n",
    "    r2 = rotate_shift_right2(x)\n",
    "\n",
    "    hr1 = hamming_distance(r1, y)\n",
    "    hr2 = hamming_distance(r2, y)\n",
    "\n",
    "    return min_array([h, hr1, hr2, hl1, hl2])"
   ]
  },
  {
   "cell_type": "code",
   "execution_count": 51,
   "id": "b27ce3d0-e9b1-4556-9076-7b557c24885c",
   "metadata": {
    "tags": []
   },
   "outputs": [],
   "source": [
    "compiler = cnp.Compiler(\n",
    "    best_shifted_hamming_distance, {\"x\": \"encrypted\", \"y\": \"encrypted\"}\n",
    ")"
   ]
  },
  {
   "cell_type": "code",
   "execution_count": 52,
   "id": "a2978a72-5da8-40cf-9421-a1809421901f",
   "metadata": {
    "tags": []
   },
   "outputs": [],
   "source": [
    "inputset = [(a, b)]"
   ]
  },
  {
   "cell_type": "code",
   "execution_count": 53,
   "id": "4b6e53e1-28c1-4122-b89c-2f32e094f646",
   "metadata": {
    "tags": []
   },
   "outputs": [],
   "source": [
    "circuit = compiler.compile(inputset)"
   ]
  },
  {
   "cell_type": "code",
   "execution_count": 54,
   "id": "732b1021-33b0-4dd8-8e65-18ee8e4d4988",
   "metadata": {
    "tags": []
   },
   "outputs": [
    {
     "name": "stdout",
     "output_type": "stream",
     "text": [
      " %0 = x                              # EncryptedTensor<uint3, shape=(4,)>        ∈ [1, 4]\n",
      " %1 = y                              # EncryptedTensor<uint2, shape=(4,)>        ∈ [1, 3]\n",
      " %2 = bitwise_xor(%0, %1)            # EncryptedTensor<uint3, shape=(4,)>        ∈ [0, 5]\n",
      " %3 = sum(%2)                        # EncryptedScalar<uint4>                    ∈ [9, 9]\n",
      " %4 = %0[1:]                         # EncryptedTensor<uint3, shape=(3,)>        ∈ [2, 4]\n",
      " %5 = %0[:1]                         # EncryptedTensor<uint1, shape=(1,)>        ∈ [1, 1]\n",
      " %6 = concatenate((%4, %5))          # EncryptedTensor<uint3, shape=(4,)>        ∈ [1, 4]\n",
      " %7 = astype(%6, dtype=int_)         # EncryptedTensor<uint3, shape=(4,)>        ∈ [1, 4]\n",
      " %8 = %0[2:]                         # EncryptedTensor<uint3, shape=(2,)>        ∈ [3, 4]\n",
      " %9 = %0[:2]                         # EncryptedTensor<uint2, shape=(2,)>        ∈ [1, 2]\n",
      "%10 = concatenate((%8, %9))          # EncryptedTensor<uint3, shape=(4,)>        ∈ [1, 4]\n",
      "%11 = astype(%10, dtype=int_)        # EncryptedTensor<uint3, shape=(4,)>        ∈ [1, 4]\n",
      "%12 = bitwise_xor(%7, %1)            # EncryptedTensor<uint3, shape=(4,)>        ∈ [0, 5]\n",
      "%13 = sum(%12)                       # EncryptedScalar<uint3>                    ∈ [7, 7]\n",
      "%14 = bitwise_xor(%11, %1)           # EncryptedTensor<uint3, shape=(4,)>        ∈ [0, 6]\n",
      "%15 = sum(%14)                       # EncryptedScalar<uint4>                    ∈ [9, 9]\n",
      "%16 = %0[-1:]                        # EncryptedTensor<uint3, shape=(1,)>        ∈ [4, 4]\n",
      "%17 = %0[:-1]                        # EncryptedTensor<uint2, shape=(3,)>        ∈ [1, 3]\n",
      "%18 = concatenate((%16, %17))        # EncryptedTensor<uint3, shape=(4,)>        ∈ [1, 4]\n",
      "%19 = astype(%18, dtype=int_)        # EncryptedTensor<uint3, shape=(4,)>        ∈ [1, 4]\n",
      "%20 = %0[-2:]                        # EncryptedTensor<uint3, shape=(2,)>        ∈ [3, 4]\n",
      "%21 = %0[:-2]                        # EncryptedTensor<uint2, shape=(2,)>        ∈ [1, 2]\n",
      "%22 = concatenate((%20, %21))        # EncryptedTensor<uint3, shape=(4,)>        ∈ [1, 4]\n",
      "%23 = astype(%22, dtype=int_)        # EncryptedTensor<uint3, shape=(4,)>        ∈ [1, 4]\n",
      "%24 = bitwise_xor(%19, %1)           # EncryptedTensor<uint3, shape=(4,)>        ∈ [2, 7]\n",
      "%25 = sum(%24)                       # EncryptedScalar<uint4>                    ∈ [15, 15]\n",
      "%26 = bitwise_xor(%23, %1)           # EncryptedTensor<uint3, shape=(4,)>        ∈ [0, 6]\n",
      "%27 = sum(%26)                       # EncryptedScalar<uint4>                    ∈ [9, 9]\n",
      "%28 = add(%3, %25)                   # EncryptedScalar<uint5>                    ∈ [24, 24]\n",
      "%29 = subtract(%3, %25)              # EncryptedScalar<int4>                     ∈ [-6, -6]\n",
      "%30 = absolute(%29)                  # EncryptedScalar<uint3>                    ∈ [6, 6]\n",
      "%31 = subtract(%28, %30)             # EncryptedScalar<uint5>                    ∈ [18, 18]\n",
      "%32 = 2                              # ClearScalar<uint2>                        ∈ [2, 2]\n",
      "%33 = floor_divide(%31, %32)         # EncryptedScalar<uint4>                    ∈ [9, 9]\n",
      "%34 = add(%33, %27)                  # EncryptedScalar<uint5>                    ∈ [18, 18]\n",
      "%35 = subtract(%33, %27)             # EncryptedScalar<uint1>                    ∈ [0, 0]\n",
      "%36 = absolute(%35)                  # EncryptedScalar<uint1>                    ∈ [0, 0]\n",
      "%37 = subtract(%34, %36)             # EncryptedScalar<uint5>                    ∈ [18, 18]\n",
      "%38 = 2                              # ClearScalar<uint2>                        ∈ [2, 2]\n",
      "%39 = floor_divide(%37, %38)         # EncryptedScalar<uint4>                    ∈ [9, 9]\n",
      "%40 = add(%39, %13)                  # EncryptedScalar<uint5>                    ∈ [16, 16]\n",
      "%41 = subtract(%39, %13)             # EncryptedScalar<uint2>                    ∈ [2, 2]\n",
      "%42 = absolute(%41)                  # EncryptedScalar<uint2>                    ∈ [2, 2]\n",
      "%43 = subtract(%40, %42)             # EncryptedScalar<uint4>                    ∈ [14, 14]\n",
      "%44 = 2                              # ClearScalar<uint2>                        ∈ [2, 2]\n",
      "%45 = floor_divide(%43, %44)         # EncryptedScalar<uint3>                    ∈ [7, 7]\n",
      "%46 = add(%45, %15)                  # EncryptedScalar<uint5>                    ∈ [16, 16]\n",
      "%47 = subtract(%45, %15)             # EncryptedScalar<int2>                     ∈ [-2, -2]\n",
      "%48 = absolute(%47)                  # EncryptedScalar<uint2>                    ∈ [2, 2]\n",
      "%49 = subtract(%46, %48)             # EncryptedScalar<uint4>                    ∈ [14, 14]\n",
      "%50 = 2                              # ClearScalar<uint2>                        ∈ [2, 2]\n",
      "%51 = floor_divide(%49, %50)         # EncryptedScalar<uint3>                    ∈ [7, 7]\n",
      "return %51\n"
     ]
    }
   ],
   "source": [
    "print(circuit)"
   ]
  },
  {
   "cell_type": "code",
   "execution_count": 55,
   "id": "07c08dc2-269f-441c-a48c-9fd8b0950a4e",
   "metadata": {
    "tags": []
   },
   "outputs": [
    {
     "data": {
      "text/plain": [
       "7"
      ]
     },
     "execution_count": 55,
     "metadata": {},
     "output_type": "execute_result"
    }
   ],
   "source": [
    "# Clear execution\n",
    "best_shifted_hamming_distance(a, b)"
   ]
  },
  {
   "cell_type": "code",
   "execution_count": 56,
   "id": "57446001-8787-42cb-b3d6-54f45e6a6c54",
   "metadata": {
    "tags": []
   },
   "outputs": [
    {
     "data": {
      "text/plain": [
       "7"
      ]
     },
     "execution_count": 56,
     "metadata": {},
     "output_type": "execute_result"
    }
   ],
   "source": [
    "# FHE execution\n",
    "circuit.encrypt_run_decrypt(a, b)"
   ]
  },
  {
   "cell_type": "code",
   "execution_count": 57,
   "id": "ece22940-3d41-4f69-a5e3-8db7c9892e61",
   "metadata": {
    "tags": []
   },
   "outputs": [
    {
     "data": {
      "text/plain": [
       "\u001b[0;31mSignature:\u001b[0m \u001b[0mexec\u001b[0m\u001b[0;34m(\u001b[0m\u001b[0msource\u001b[0m\u001b[0;34m,\u001b[0m \u001b[0mglobals\u001b[0m\u001b[0;34m=\u001b[0m\u001b[0;32mNone\u001b[0m\u001b[0;34m,\u001b[0m \u001b[0mlocals\u001b[0m\u001b[0;34m=\u001b[0m\u001b[0;32mNone\u001b[0m\u001b[0;34m,\u001b[0m \u001b[0;34m/\u001b[0m\u001b[0;34m)\u001b[0m\u001b[0;34m\u001b[0m\u001b[0;34m\u001b[0m\u001b[0m\n",
       "\u001b[0;31mDocstring:\u001b[0m\n",
       "Execute the given source in the context of globals and locals.\n",
       "\n",
       "The source may be a string representing one or more Python statements\n",
       "or a code object as returned by compile().\n",
       "The globals must be a dictionary and locals can be any mapping,\n",
       "defaulting to the current globals and locals.\n",
       "If only globals is given, locals defaults to it.\n",
       "\u001b[0;31mType:\u001b[0m      builtin_function_or_method"
      ]
     },
     "metadata": {},
     "output_type": "display_data"
    }
   ],
   "source": [
    "exec?"
   ]
  },
  {
   "cell_type": "code",
   "execution_count": null,
   "id": "c658c9b1-3b9e-4b9e-9375-2697c6f48f25",
   "metadata": {},
   "outputs": [],
   "source": []
  }
 ],
 "metadata": {
  "kernelspec": {
   "display_name": "Python 3 (ipykernel)",
   "language": "python",
   "name": "python3"
  },
  "language_info": {
   "codemirror_mode": {
    "name": "ipython",
    "version": 3
   },
   "file_extension": ".py",
   "mimetype": "text/x-python",
   "name": "python",
   "nbconvert_exporter": "python",
   "pygments_lexer": "ipython3",
   "version": "3.10.6"
  }
 },
 "nbformat": 4,
 "nbformat_minor": 5
}
